{
  "nbformat": 4,
  "nbformat_minor": 0,
  "metadata": {
    "colab": {
      "name": "Keras_codenation_ENEM_2016.ipynb",
      "version": "0.3.2",
      "provenance": [],
      "collapsed_sections": [],
      "include_colab_link": true
    },
    "kernelspec": {
      "name": "python3",
      "display_name": "Python 3"
    },
    "accelerator": "GPU"
  },
  "cells": [
    {
      "cell_type": "markdown",
      "metadata": {
        "id": "view-in-github",
        "colab_type": "text"
      },
      "source": [
        "<a href=\"https://colab.research.google.com/github/joaovitordeon/ENEM_2016_codenation/blob/master/Keras_codenation_ENEM_2016.ipynb\" target=\"_parent\"><img src=\"https://colab.research.google.com/assets/colab-badge.svg\" alt=\"Open In Colab\"/></a>"
      ]
    },
    {
      "metadata": {
        "id": "EybDwpAhu4ZZ",
        "colab_type": "text"
      },
      "cell_type": "markdown",
      "source": [
        "# Análise exploratória\n"
      ]
    },
    {
      "metadata": {
        "id": "ZOfPVxv5onYR",
        "colab_type": "code",
        "outputId": "f558da8d-322d-456a-e7b2-441b173757e6",
        "colab": {
          "base_uri": "https://localhost:8080/",
          "height": 122
        }
      },
      "cell_type": "code",
      "source": [
        "from google.colab import drive\n",
        "drive.mount('/content/drive')"
      ],
      "execution_count": 1,
      "outputs": [
        {
          "output_type": "stream",
          "text": [
            "Go to this URL in a browser: https://accounts.google.com/o/oauth2/auth?client_id=947318989803-6bn6qk8qdgf4n4g3pfee6491hc0brc4i.apps.googleusercontent.com&redirect_uri=urn%3Aietf%3Awg%3Aoauth%3A2.0%3Aoob&scope=email%20https%3A%2F%2Fwww.googleapis.com%2Fauth%2Fdocs.test%20https%3A%2F%2Fwww.googleapis.com%2Fauth%2Fdrive%20https%3A%2F%2Fwww.googleapis.com%2Fauth%2Fdrive.photos.readonly%20https%3A%2F%2Fwww.googleapis.com%2Fauth%2Fpeopleapi.readonly&response_type=code\n",
            "\n",
            "Enter your authorization code:\n",
            "··········\n",
            "Mounted at /content/drive\n"
          ],
          "name": "stdout"
        }
      ]
    },
    {
      "metadata": {
        "id": "-Z-nRclso3pR",
        "colab_type": "code",
        "outputId": "40665fa2-0f45-4fd2-b6b8-7d48a8786f2d",
        "colab": {
          "base_uri": "https://localhost:8080/",
          "height": 34
        }
      },
      "cell_type": "code",
      "source": [
        "! ls \"/content/drive/My Drive/Colab Notebooks/codenation_ENEM\""
      ],
      "execution_count": 2,
      "outputs": [
        {
          "output_type": "stream",
          "text": [
            "best_codenation_ENEM_2016.ipynb  test.csv  train.csv\n"
          ],
          "name": "stdout"
        }
      ]
    },
    {
      "metadata": {
        "id": "PzbQXSl1rCfJ",
        "colab_type": "code",
        "colab": {}
      },
      "cell_type": "code",
      "source": [
        "import seaborn as sns\n",
        "import matplotlib.pyplot as plt\n",
        "import numpy as np\n",
        "import pandas as pd\n",
        "from sklearn.model_selection import train_test_split\n",
        "from sklearn.model_selection import cross_val_score\n",
        "from sklearn.model_selection import KFold\n",
        "from sklearn.pipeline import Pipeline\n",
        "from sklearn.preprocessing import MinMaxScaler\n",
        "from tensorflow.python.keras.models import Sequential\n",
        "from tensorflow.python.keras.layers import Dense\n",
        "from tensorflow.python.keras.wrappers.scikit_learn import KerasRegressor"
      ],
      "execution_count": 0,
      "outputs": []
    },
    {
      "metadata": {
        "id": "fGsAxStzrfw2",
        "colab_type": "code",
        "colab": {}
      },
      "cell_type": "code",
      "source": [
        "df_train = pd.read_csv(\"/content/drive/My Drive/Colab Notebooks/codenation_ENEM/train.csv\")"
      ],
      "execution_count": 0,
      "outputs": []
    },
    {
      "metadata": {
        "id": "WeD_gpOxrnte",
        "colab_type": "code",
        "colab": {}
      },
      "cell_type": "code",
      "source": [
        "df_test = pd.read_csv(\"/content/drive/My Drive/Colab Notebooks/codenation_ENEM/test.csv\")"
      ],
      "execution_count": 0,
      "outputs": []
    },
    {
      "metadata": {
        "id": "r-c9DKoouvOA",
        "colab_type": "code",
        "outputId": "b91fd69d-3d50-4fba-88a9-d22260bd30cc",
        "colab": {
          "base_uri": "https://localhost:8080/",
          "height": 102
        }
      },
      "cell_type": "code",
      "source": [
        "df_train.info()"
      ],
      "execution_count": 6,
      "outputs": [
        {
          "output_type": "stream",
          "text": [
            "<class 'pandas.core.frame.DataFrame'>\n",
            "RangeIndex: 13730 entries, 0 to 13729\n",
            "Columns: 167 entries, Unnamed: 0 to Q050\n",
            "dtypes: float64(28), int64(79), object(60)\n",
            "memory usage: 17.5+ MB\n"
          ],
          "name": "stdout"
        }
      ]
    },
    {
      "metadata": {
        "id": "PJOm49zgtITh",
        "colab_type": "code",
        "colab": {}
      },
      "cell_type": "code",
      "source": [
        "df_test.info()"
      ],
      "execution_count": 0,
      "outputs": []
    },
    {
      "metadata": {
        "id": "bVadjFOGtV7L",
        "colab_type": "text"
      },
      "cell_type": "markdown",
      "source": [
        "**Transformar as colunas de treino iguais as de test. **"
      ]
    },
    {
      "metadata": {
        "id": "n798xIJzteeU",
        "colab_type": "text"
      },
      "cell_type": "markdown",
      "source": [
        "**Transformar colunas categoricas(dummies)**"
      ]
    },
    {
      "metadata": {
        "id": "FPTB2gWqtlVk",
        "colab_type": "text"
      },
      "cell_type": "markdown",
      "source": [
        "**Verificar os as colunas com muitos dados faltantes**"
      ]
    },
    {
      "metadata": {
        "id": "zZrN08KrvIYe",
        "colab_type": "code",
        "colab": {}
      },
      "cell_type": "code",
      "source": [
        "colunas = list(df_test.columns)"
      ],
      "execution_count": 0,
      "outputs": []
    },
    {
      "metadata": {
        "id": "MjFjimyMvNjV",
        "colab_type": "code",
        "colab": {}
      },
      "cell_type": "code",
      "source": [
        "colunas.append(\"NU_NOTA_MT\")"
      ],
      "execution_count": 0,
      "outputs": []
    },
    {
      "metadata": {
        "id": "BO-kT3wuu2kw",
        "colab_type": "code",
        "colab": {}
      },
      "cell_type": "code",
      "source": [
        "df_train = df_train[colunas]"
      ],
      "execution_count": 0,
      "outputs": []
    },
    {
      "metadata": {
        "id": "2oPDB2uTv3CU",
        "colab_type": "code",
        "colab": {}
      },
      "cell_type": "code",
      "source": [
        "df_train.info()"
      ],
      "execution_count": 0,
      "outputs": []
    },
    {
      "metadata": {
        "id": "p8cZLwqbskMa",
        "colab_type": "text"
      },
      "cell_type": "markdown",
      "source": [
        "**SG_UF_RESIDENCIA inútil para o problema visto que ja temos o numero das unidades federativas**"
      ]
    },
    {
      "metadata": {
        "id": "9suiR6_uxEZe",
        "colab_type": "text"
      },
      "cell_type": "markdown",
      "source": [
        "**TP_ENSINO, TP_DEPENDENCIA_ADM_ESC, Q027  com muitos dados faltantes**"
      ]
    },
    {
      "metadata": {
        "id": "GfFYIBkY25d3",
        "colab_type": "text"
      },
      "cell_type": "markdown",
      "source": [
        "**Colunas CO_PROVA_... são das cores das provas, o que não agrega nada ao modelo**"
      ]
    },
    {
      "metadata": {
        "id": "rSkJ70H4xf_q",
        "colab_type": "text"
      },
      "cell_type": "markdown",
      "source": [
        "**Transformar os dados categoricos(dummies)**"
      ]
    },
    {
      "metadata": {
        "id": "U1YSjlGrxi-4",
        "colab_type": "code",
        "colab": {}
      },
      "cell_type": "code",
      "source": [
        "#criando copia dos df'sinfo()\n",
        "train = df_train.copy()\n",
        "test = df_test.copy()\n",
        "\n",
        "train_aux = train.copy()\n",
        "test_aux = test.copy()"
      ],
      "execution_count": 0,
      "outputs": []
    },
    {
      "metadata": {
        "id": "bTmO0T2azZD_",
        "colab_type": "text"
      },
      "cell_type": "markdown",
      "source": [
        "**apagar as linhas que tem NU_NOTA_MT como NANs**"
      ]
    },
    {
      "metadata": {
        "id": "nEQLjOY79dQ1",
        "colab_type": "code",
        "colab": {}
      },
      "cell_type": "code",
      "source": [
        "train = train[~np.isnan(train.NU_NOTA_MT)]"
      ],
      "execution_count": 0,
      "outputs": []
    },
    {
      "metadata": {
        "id": "zBdwSXDq4Fj4",
        "colab_type": "code",
        "colab": {}
      },
      "cell_type": "code",
      "source": [
        "train.info()"
      ],
      "execution_count": 0,
      "outputs": []
    },
    {
      "metadata": {
        "id": "_tAZVmmayM15",
        "colab_type": "code",
        "colab": {}
      },
      "cell_type": "code",
      "source": [
        "train.drop(columns=['NU_INSCRICAO','TP_PRESENCA_CN', 'TP_PRESENCA_CH', 'TP_PRESENCA_LC','TP_STATUS_REDACAO',\\\n",
        "                    'SG_UF_RESIDENCIA','TP_ENSINO', 'TP_DEPENDENCIA_ADM_ESC','CO_PROVA_CN', 'CO_PROVA_CH', \\\n",
        "                    'CO_PROVA_LC','CO_PROVA_MT'], inplace=True)\n",
        "\n",
        "test.drop(columns=['NU_INSCRICAO','TP_PRESENCA_CN', 'TP_PRESENCA_CH', 'TP_PRESENCA_LC','TP_STATUS_REDACAO',\\\n",
        "                   'SG_UF_RESIDENCIA','TP_ENSINO', 'TP_DEPENDENCIA_ADM_ESC', 'CO_PROVA_CN', 'CO_PROVA_CH', \\\n",
        "                   'CO_PROVA_LC','CO_PROVA_MT'], inplace=True)"
      ],
      "execution_count": 0,
      "outputs": []
    },
    {
      "metadata": {
        "id": "WnlcH6gYmRUW",
        "colab_type": "code",
        "outputId": "68f7bde0-2990-4f74-e8c4-0c89ae6e72be",
        "colab": {
          "base_uri": "https://localhost:8080/",
          "height": 170
        }
      },
      "cell_type": "code",
      "source": [
        "train.columns"
      ],
      "execution_count": 16,
      "outputs": [
        {
          "output_type": "execute_result",
          "data": {
            "text/plain": [
              "Index(['CO_UF_RESIDENCIA', 'NU_IDADE', 'TP_SEXO', 'TP_COR_RACA',\n",
              "       'TP_NACIONALIDADE', 'TP_ST_CONCLUSAO', 'TP_ANO_CONCLUIU', 'TP_ESCOLA',\n",
              "       'IN_TREINEIRO', 'IN_BAIXA_VISAO', 'IN_CEGUEIRA', 'IN_SURDEZ',\n",
              "       'IN_DISLEXIA', 'IN_DISCALCULIA', 'IN_SABATISTA', 'IN_GESTANTE',\n",
              "       'IN_IDOSO', 'NU_NOTA_CN', 'NU_NOTA_CH', 'NU_NOTA_LC', 'TP_LINGUA',\n",
              "       'NU_NOTA_COMP1', 'NU_NOTA_COMP2', 'NU_NOTA_COMP3', 'NU_NOTA_COMP4',\n",
              "       'NU_NOTA_COMP5', 'NU_NOTA_REDACAO', 'Q001', 'Q002', 'Q006', 'Q024',\n",
              "       'Q025', 'Q026', 'Q027', 'Q047', 'NU_NOTA_MT'],\n",
              "      dtype='object')"
            ]
          },
          "metadata": {
            "tags": []
          },
          "execution_count": 16
        }
      ]
    },
    {
      "metadata": {
        "id": "ZJZUnzCQyA_a",
        "colab_type": "code",
        "colab": {}
      },
      "cell_type": "code",
      "source": [
        "train = pd.get_dummies(train) \n",
        "test = pd.get_dummies(test)"
      ],
      "execution_count": 0,
      "outputs": []
    },
    {
      "metadata": {
        "id": "OAuFLYz-oFv8",
        "colab_type": "code",
        "colab": {}
      },
      "cell_type": "code",
      "source": [
        "train.dropna(axis='index', inplace=True)\n",
        "test.dropna(axis='index', inplace=True)"
      ],
      "execution_count": 0,
      "outputs": []
    },
    {
      "metadata": {
        "id": "l13kz5vEqyjJ",
        "colab_type": "code",
        "colab": {}
      },
      "cell_type": "code",
      "source": [
        "train.info()"
      ],
      "execution_count": 0,
      "outputs": []
    },
    {
      "metadata": {
        "id": "ZzrCdoLDrLkp",
        "colab_type": "code",
        "colab": {}
      },
      "cell_type": "code",
      "source": [
        "test.info()"
      ],
      "execution_count": 0,
      "outputs": []
    },
    {
      "metadata": {
        "id": "nXSxtaJ9_o-z",
        "colab_type": "code",
        "outputId": "33376827-49b6-4602-c545-05ef8191205d",
        "colab": {
          "base_uri": "https://localhost:8080/",
          "height": 34
        }
      },
      "cell_type": "code",
      "source": [
        "'NU_NOTA_MT' in train.columns"
      ],
      "execution_count": 21,
      "outputs": [
        {
          "output_type": "execute_result",
          "data": {
            "text/plain": [
              "True"
            ]
          },
          "metadata": {
            "tags": []
          },
          "execution_count": 21
        }
      ]
    },
    {
      "metadata": {
        "id": "55ZUtjkqdxtJ",
        "colab_type": "code",
        "outputId": "25dba919-344b-4438-a7e9-6c0e6e191a6a",
        "colab": {
          "base_uri": "https://localhost:8080/",
          "height": 71
        }
      },
      "cell_type": "code",
      "source": [
        "scaler1 = MinMaxScaler()\n",
        "\n",
        "train_a = scaler1.fit_transform(train.drop(columns=['NU_NOTA_MT']))\n",
        "train_a = pd.DataFrame(train_a, columns=train.columns[:-1])"
      ],
      "execution_count": 22,
      "outputs": [
        {
          "output_type": "stream",
          "text": [
            "/usr/local/lib/python3.6/dist-packages/sklearn/preprocessing/data.py:334: DataConversionWarning: Data with input dtype uint8, int64, float64 were all converted to float64 by MinMaxScaler.\n",
            "  return self.partial_fit(X, y)\n"
          ],
          "name": "stderr"
        }
      ]
    },
    {
      "metadata": {
        "id": "37ZAbpo3N4oB",
        "colab_type": "code",
        "colab": {}
      },
      "cell_type": "code",
      "source": [
        "test_a = scaler1.transform(test)\n",
        "test_a = pd.DataFrame(test_a, columns = test.columns)\n",
        "test_a = pd.concat([test_aux.NU_INSCRICAO, test_a] , axis='columns')"
      ],
      "execution_count": 0,
      "outputs": []
    },
    {
      "metadata": {
        "id": "oWkrWs1Pu4fr",
        "colab_type": "code",
        "outputId": "b3a86acb-b744-4981-9c3a-8922686119c5",
        "colab": {
          "base_uri": "https://localhost:8080/",
          "height": 34
        }
      },
      "cell_type": "code",
      "source": [
        "'NU_INSCRICAO' in test_a.columns"
      ],
      "execution_count": 24,
      "outputs": [
        {
          "output_type": "execute_result",
          "data": {
            "text/plain": [
              "True"
            ]
          },
          "metadata": {
            "tags": []
          },
          "execution_count": 24
        }
      ]
    },
    {
      "metadata": {
        "id": "_xecicXGOZjw",
        "colab_type": "code",
        "colab": {}
      },
      "cell_type": "code",
      "source": [
        "scaler2 = MinMaxScaler()\n",
        "\n",
        "X_train = train_a\n",
        "\n",
        "y_train = scaler2.fit_transform(train.NU_NOTA_MT.values.reshape(-1,1))\n",
        "\n",
        "X_test = test_a.drop(columns='NU_INSCRICAO')"
      ],
      "execution_count": 0,
      "outputs": []
    },
    {
      "metadata": {
        "id": "qO1ktNKEPNUL",
        "colab_type": "code",
        "colab": {}
      },
      "cell_type": "code",
      "source": [
        "X_train.info()"
      ],
      "execution_count": 0,
      "outputs": []
    },
    {
      "metadata": {
        "id": "tunyyeIodJp1",
        "colab_type": "code",
        "outputId": "1a88ad3d-b751-4bcb-fcfe-49c89c1e6e67",
        "colab": {
          "base_uri": "https://localhost:8080/",
          "height": 309
        }
      },
      "cell_type": "code",
      "source": [
        "model = Sequential()\n",
        "model.add(Dense(89, input_dim=89, kernel_initializer='normal', activation='relu'))\n",
        "model.add(Dense(89, activation='relu'))\n",
        "model.add(Dense(1, activation='linear'))\n",
        "model.summary()"
      ],
      "execution_count": 27,
      "outputs": [
        {
          "output_type": "stream",
          "text": [
            "WARNING:tensorflow:From /usr/local/lib/python3.6/dist-packages/tensorflow/python/ops/resource_variable_ops.py:435: colocate_with (from tensorflow.python.framework.ops) is deprecated and will be removed in a future version.\n",
            "Instructions for updating:\n",
            "Colocations handled automatically by placer.\n",
            "_________________________________________________________________\n",
            "Layer (type)                 Output Shape              Param #   \n",
            "=================================================================\n",
            "dense (Dense)                (None, 89)                8010      \n",
            "_________________________________________________________________\n",
            "dense_1 (Dense)              (None, 89)                8010      \n",
            "_________________________________________________________________\n",
            "dense_2 (Dense)              (None, 1)                 90        \n",
            "=================================================================\n",
            "Total params: 16,110\n",
            "Trainable params: 16,110\n",
            "Non-trainable params: 0\n",
            "_________________________________________________________________\n"
          ],
          "name": "stdout"
        }
      ]
    },
    {
      "metadata": {
        "id": "qv941wbjdO11",
        "colab_type": "code",
        "colab": {
          "base_uri": "https://localhost:8080/",
          "height": 88
        },
        "outputId": "a4384ba0-155a-4289-b14c-b0959587c09e"
      },
      "cell_type": "code",
      "source": [
        "model.compile(loss='mse', optimizer='adam', metrics=['mse'])"
      ],
      "execution_count": 28,
      "outputs": [
        {
          "output_type": "stream",
          "text": [
            "WARNING:tensorflow:From /usr/local/lib/python3.6/dist-packages/tensorflow/python/keras/utils/losses_utils.py:170: to_float (from tensorflow.python.ops.math_ops) is deprecated and will be removed in a future version.\n",
            "Instructions for updating:\n",
            "Use tf.cast instead.\n"
          ],
          "name": "stdout"
        }
      ]
    },
    {
      "metadata": {
        "id": "Vv2Yd2m43EFN",
        "colab_type": "code",
        "outputId": "283e38b5-67a4-455f-cf3c-8566110b0208",
        "colab": {
          "base_uri": "https://localhost:8080/",
          "height": 5205
        }
      },
      "cell_type": "code",
      "source": [
        "history = model.fit(X_train, y_train, epochs=150, batch_size=20,  verbose=1, validation_split=0.05)"
      ],
      "execution_count": 29,
      "outputs": [
        {
          "output_type": "stream",
          "text": [
            "Train on 9592 samples, validate on 505 samples\n",
            "WARNING:tensorflow:From /usr/local/lib/python3.6/dist-packages/tensorflow/python/ops/math_ops.py:3066: to_int32 (from tensorflow.python.ops.math_ops) is deprecated and will be removed in a future version.\n",
            "Instructions for updating:\n",
            "Use tf.cast instead.\n",
            "Epoch 1/150\n",
            "9592/9592 [==============================] - 2s 254us/sample - loss: 0.0108 - mean_squared_error: 0.0108 - val_loss: 0.0067 - val_mean_squared_error: 0.0067\n",
            "Epoch 2/150\n",
            "9592/9592 [==============================] - 1s 154us/sample - loss: 0.0069 - mean_squared_error: 0.0069 - val_loss: 0.0062 - val_mean_squared_error: 0.0062\n",
            "Epoch 3/150\n",
            "9592/9592 [==============================] - 2s 157us/sample - loss: 0.0066 - mean_squared_error: 0.0066 - val_loss: 0.0063 - val_mean_squared_error: 0.0063\n",
            "Epoch 4/150\n",
            "9592/9592 [==============================] - 1s 155us/sample - loss: 0.0063 - mean_squared_error: 0.0063 - val_loss: 0.0068 - val_mean_squared_error: 0.0068\n",
            "Epoch 5/150\n",
            "9592/9592 [==============================] - 1s 156us/sample - loss: 0.0061 - mean_squared_error: 0.0061 - val_loss: 0.0059 - val_mean_squared_error: 0.0059\n",
            "Epoch 6/150\n",
            "9592/9592 [==============================] - 1s 156us/sample - loss: 0.0061 - mean_squared_error: 0.0061 - val_loss: 0.0066 - val_mean_squared_error: 0.0066\n",
            "Epoch 7/150\n",
            "9592/9592 [==============================] - 2s 157us/sample - loss: 0.0058 - mean_squared_error: 0.0058 - val_loss: 0.0066 - val_mean_squared_error: 0.0066\n",
            "Epoch 8/150\n",
            "9592/9592 [==============================] - 1s 153us/sample - loss: 0.0058 - mean_squared_error: 0.0058 - val_loss: 0.0061 - val_mean_squared_error: 0.0061\n",
            "Epoch 9/150\n",
            "9592/9592 [==============================] - 2s 170us/sample - loss: 0.0056 - mean_squared_error: 0.0056 - val_loss: 0.0067 - val_mean_squared_error: 0.0067\n",
            "Epoch 10/150\n",
            "9592/9592 [==============================] - 2s 174us/sample - loss: 0.0055 - mean_squared_error: 0.0055 - val_loss: 0.0064 - val_mean_squared_error: 0.0064\n",
            "Epoch 11/150\n",
            "9592/9592 [==============================] - 2s 176us/sample - loss: 0.0054 - mean_squared_error: 0.0054 - val_loss: 0.0068 - val_mean_squared_error: 0.0068\n",
            "Epoch 12/150\n",
            "9592/9592 [==============================] - 2s 176us/sample - loss: 0.0052 - mean_squared_error: 0.0052 - val_loss: 0.0074 - val_mean_squared_error: 0.0074\n",
            "Epoch 13/150\n",
            "9592/9592 [==============================] - 2s 179us/sample - loss: 0.0050 - mean_squared_error: 0.0050 - val_loss: 0.0066 - val_mean_squared_error: 0.0066\n",
            "Epoch 14/150\n",
            "9592/9592 [==============================] - 2s 174us/sample - loss: 0.0049 - mean_squared_error: 0.0049 - val_loss: 0.0067 - val_mean_squared_error: 0.0067\n",
            "Epoch 15/150\n",
            "9592/9592 [==============================] - 2s 159us/sample - loss: 0.0049 - mean_squared_error: 0.0049 - val_loss: 0.0072 - val_mean_squared_error: 0.0072\n",
            "Epoch 16/150\n",
            "9592/9592 [==============================] - 1s 151us/sample - loss: 0.0046 - mean_squared_error: 0.0046 - val_loss: 0.0072 - val_mean_squared_error: 0.0072\n",
            "Epoch 17/150\n",
            "9592/9592 [==============================] - 2s 157us/sample - loss: 0.0045 - mean_squared_error: 0.0045 - val_loss: 0.0071 - val_mean_squared_error: 0.0071\n",
            "Epoch 18/150\n",
            "9592/9592 [==============================] - 1s 156us/sample - loss: 0.0044 - mean_squared_error: 0.0044 - val_loss: 0.0068 - val_mean_squared_error: 0.0068\n",
            "Epoch 19/150\n",
            "9592/9592 [==============================] - 1s 154us/sample - loss: 0.0043 - mean_squared_error: 0.0043 - val_loss: 0.0079 - val_mean_squared_error: 0.0079\n",
            "Epoch 20/150\n",
            "9592/9592 [==============================] - 2s 159us/sample - loss: 0.0043 - mean_squared_error: 0.0043 - val_loss: 0.0070 - val_mean_squared_error: 0.0070\n",
            "Epoch 21/150\n",
            "9592/9592 [==============================] - 1s 154us/sample - loss: 0.0040 - mean_squared_error: 0.0040 - val_loss: 0.0074 - val_mean_squared_error: 0.0074\n",
            "Epoch 22/150\n",
            "9592/9592 [==============================] - 1s 156us/sample - loss: 0.0040 - mean_squared_error: 0.0040 - val_loss: 0.0073 - val_mean_squared_error: 0.0073\n",
            "Epoch 23/150\n",
            "9592/9592 [==============================] - 1s 155us/sample - loss: 0.0038 - mean_squared_error: 0.0038 - val_loss: 0.0076 - val_mean_squared_error: 0.0076\n",
            "Epoch 24/150\n",
            "9592/9592 [==============================] - 1s 154us/sample - loss: 0.0037 - mean_squared_error: 0.0037 - val_loss: 0.0073 - val_mean_squared_error: 0.0073\n",
            "Epoch 25/150\n",
            "9592/9592 [==============================] - 1s 152us/sample - loss: 0.0037 - mean_squared_error: 0.0037 - val_loss: 0.0075 - val_mean_squared_error: 0.0075\n",
            "Epoch 26/150\n",
            "9592/9592 [==============================] - 1s 156us/sample - loss: 0.0036 - mean_squared_error: 0.0036 - val_loss: 0.0072 - val_mean_squared_error: 0.0072\n",
            "Epoch 27/150\n",
            "9592/9592 [==============================] - 1s 154us/sample - loss: 0.0035 - mean_squared_error: 0.0035 - val_loss: 0.0074 - val_mean_squared_error: 0.0074\n",
            "Epoch 28/150\n",
            "9592/9592 [==============================] - 1s 155us/sample - loss: 0.0035 - mean_squared_error: 0.0035 - val_loss: 0.0078 - val_mean_squared_error: 0.0078\n",
            "Epoch 29/150\n",
            "9592/9592 [==============================] - 1s 154us/sample - loss: 0.0034 - mean_squared_error: 0.0034 - val_loss: 0.0075 - val_mean_squared_error: 0.0075\n",
            "Epoch 30/150\n",
            "9592/9592 [==============================] - 2s 173us/sample - loss: 0.0033 - mean_squared_error: 0.0033 - val_loss: 0.0075 - val_mean_squared_error: 0.0075\n",
            "Epoch 31/150\n",
            "9592/9592 [==============================] - 2s 178us/sample - loss: 0.0033 - mean_squared_error: 0.0033 - val_loss: 0.0082 - val_mean_squared_error: 0.0082\n",
            "Epoch 32/150\n",
            "9592/9592 [==============================] - 2s 181us/sample - loss: 0.0032 - mean_squared_error: 0.0032 - val_loss: 0.0079 - val_mean_squared_error: 0.0079\n",
            "Epoch 33/150\n",
            "9592/9592 [==============================] - 2s 185us/sample - loss: 0.0031 - mean_squared_error: 0.0031 - val_loss: 0.0081 - val_mean_squared_error: 0.0081\n",
            "Epoch 34/150\n",
            "9592/9592 [==============================] - 2s 181us/sample - loss: 0.0030 - mean_squared_error: 0.0030 - val_loss: 0.0082 - val_mean_squared_error: 0.0082\n",
            "Epoch 35/150\n",
            "9592/9592 [==============================] - 2s 181us/sample - loss: 0.0030 - mean_squared_error: 0.0030 - val_loss: 0.0083 - val_mean_squared_error: 0.0083\n",
            "Epoch 36/150\n",
            "9592/9592 [==============================] - 2s 161us/sample - loss: 0.0029 - mean_squared_error: 0.0029 - val_loss: 0.0078 - val_mean_squared_error: 0.0078\n",
            "Epoch 37/150\n",
            "9592/9592 [==============================] - 1s 152us/sample - loss: 0.0028 - mean_squared_error: 0.0028 - val_loss: 0.0078 - val_mean_squared_error: 0.0078\n",
            "Epoch 38/150\n",
            "9592/9592 [==============================] - 1s 154us/sample - loss: 0.0027 - mean_squared_error: 0.0027 - val_loss: 0.0084 - val_mean_squared_error: 0.0084\n",
            "Epoch 39/150\n",
            "9592/9592 [==============================] - 1s 156us/sample - loss: 0.0028 - mean_squared_error: 0.0028 - val_loss: 0.0082 - val_mean_squared_error: 0.0082\n",
            "Epoch 40/150\n",
            "9592/9592 [==============================] - 1s 155us/sample - loss: 0.0027 - mean_squared_error: 0.0027 - val_loss: 0.0088 - val_mean_squared_error: 0.0088\n",
            "Epoch 41/150\n",
            "9592/9592 [==============================] - 1s 153us/sample - loss: 0.0027 - mean_squared_error: 0.0027 - val_loss: 0.0085 - val_mean_squared_error: 0.0085\n",
            "Epoch 42/150\n",
            "9592/9592 [==============================] - 1s 154us/sample - loss: 0.0026 - mean_squared_error: 0.0026 - val_loss: 0.0088 - val_mean_squared_error: 0.0088\n",
            "Epoch 43/150\n",
            "9592/9592 [==============================] - 1s 155us/sample - loss: 0.0025 - mean_squared_error: 0.0025 - val_loss: 0.0085 - val_mean_squared_error: 0.0085\n",
            "Epoch 44/150\n",
            "9592/9592 [==============================] - 1s 153us/sample - loss: 0.0025 - mean_squared_error: 0.0025 - val_loss: 0.0089 - val_mean_squared_error: 0.0089\n",
            "Epoch 45/150\n",
            "9592/9592 [==============================] - 1s 155us/sample - loss: 0.0025 - mean_squared_error: 0.0025 - val_loss: 0.0094 - val_mean_squared_error: 0.0094\n",
            "Epoch 46/150\n",
            "9592/9592 [==============================] - 1s 154us/sample - loss: 0.0025 - mean_squared_error: 0.0025 - val_loss: 0.0089 - val_mean_squared_error: 0.0089\n",
            "Epoch 47/150\n",
            "9592/9592 [==============================] - 1s 155us/sample - loss: 0.0024 - mean_squared_error: 0.0024 - val_loss: 0.0087 - val_mean_squared_error: 0.0087\n",
            "Epoch 48/150\n",
            "9592/9592 [==============================] - 1s 154us/sample - loss: 0.0024 - mean_squared_error: 0.0024 - val_loss: 0.0090 - val_mean_squared_error: 0.0090\n",
            "Epoch 49/150\n",
            "9592/9592 [==============================] - 1s 154us/sample - loss: 0.0023 - mean_squared_error: 0.0023 - val_loss: 0.0092 - val_mean_squared_error: 0.0092\n",
            "Epoch 50/150\n",
            "9592/9592 [==============================] - 1s 153us/sample - loss: 0.0023 - mean_squared_error: 0.0023 - val_loss: 0.0086 - val_mean_squared_error: 0.0086\n",
            "Epoch 51/150\n",
            "9592/9592 [==============================] - 1s 156us/sample - loss: 0.0023 - mean_squared_error: 0.0023 - val_loss: 0.0096 - val_mean_squared_error: 0.0096\n",
            "Epoch 52/150\n",
            "9592/9592 [==============================] - 1s 155us/sample - loss: 0.0022 - mean_squared_error: 0.0022 - val_loss: 0.0093 - val_mean_squared_error: 0.0093\n",
            "Epoch 53/150\n",
            "9592/9592 [==============================] - 2s 156us/sample - loss: 0.0022 - mean_squared_error: 0.0022 - val_loss: 0.0092 - val_mean_squared_error: 0.0092\n",
            "Epoch 54/150\n",
            "9592/9592 [==============================] - 1s 154us/sample - loss: 0.0022 - mean_squared_error: 0.0022 - val_loss: 0.0088 - val_mean_squared_error: 0.0088\n",
            "Epoch 55/150\n",
            "9592/9592 [==============================] - 2s 164us/sample - loss: 0.0021 - mean_squared_error: 0.0021 - val_loss: 0.0092 - val_mean_squared_error: 0.0092\n",
            "Epoch 56/150\n",
            "9592/9592 [==============================] - 1s 152us/sample - loss: 0.0021 - mean_squared_error: 0.0021 - val_loss: 0.0089 - val_mean_squared_error: 0.0089\n",
            "Epoch 57/150\n",
            "9592/9592 [==============================] - 1s 153us/sample - loss: 0.0021 - mean_squared_error: 0.0021 - val_loss: 0.0091 - val_mean_squared_error: 0.0091\n",
            "Epoch 58/150\n",
            "9592/9592 [==============================] - 2s 157us/sample - loss: 0.0021 - mean_squared_error: 0.0021 - val_loss: 0.0094 - val_mean_squared_error: 0.0094\n",
            "Epoch 59/150\n",
            "9592/9592 [==============================] - 1s 156us/sample - loss: 0.0021 - mean_squared_error: 0.0021 - val_loss: 0.0092 - val_mean_squared_error: 0.0092\n",
            "Epoch 60/150\n",
            "9592/9592 [==============================] - 1s 154us/sample - loss: 0.0020 - mean_squared_error: 0.0020 - val_loss: 0.0095 - val_mean_squared_error: 0.0095\n",
            "Epoch 61/150\n",
            "9592/9592 [==============================] - 2s 164us/sample - loss: 0.0020 - mean_squared_error: 0.0020 - val_loss: 0.0093 - val_mean_squared_error: 0.0093\n",
            "Epoch 62/150\n",
            "9592/9592 [==============================] - 2s 174us/sample - loss: 0.0020 - mean_squared_error: 0.0020 - val_loss: 0.0092 - val_mean_squared_error: 0.0092\n",
            "Epoch 63/150\n",
            "9592/9592 [==============================] - 2s 174us/sample - loss: 0.0020 - mean_squared_error: 0.0020 - val_loss: 0.0095 - val_mean_squared_error: 0.0095\n",
            "Epoch 64/150\n",
            "9592/9592 [==============================] - 2s 173us/sample - loss: 0.0019 - mean_squared_error: 0.0019 - val_loss: 0.0100 - val_mean_squared_error: 0.0100\n",
            "Epoch 65/150\n",
            "9592/9592 [==============================] - 2s 174us/sample - loss: 0.0019 - mean_squared_error: 0.0019 - val_loss: 0.0094 - val_mean_squared_error: 0.0094\n",
            "Epoch 66/150\n",
            "9592/9592 [==============================] - 2s 172us/sample - loss: 0.0018 - mean_squared_error: 0.0018 - val_loss: 0.0099 - val_mean_squared_error: 0.0099\n",
            "Epoch 67/150\n",
            "9592/9592 [==============================] - 2s 161us/sample - loss: 0.0018 - mean_squared_error: 0.0018 - val_loss: 0.0095 - val_mean_squared_error: 0.0095\n",
            "Epoch 68/150\n",
            "9592/9592 [==============================] - 1s 152us/sample - loss: 0.0018 - mean_squared_error: 0.0018 - val_loss: 0.0096 - val_mean_squared_error: 0.0096\n",
            "Epoch 69/150\n",
            "9592/9592 [==============================] - 1s 154us/sample - loss: 0.0018 - mean_squared_error: 0.0018 - val_loss: 0.0099 - val_mean_squared_error: 0.0099\n",
            "Epoch 70/150\n",
            "9592/9592 [==============================] - 1s 151us/sample - loss: 0.0018 - mean_squared_error: 0.0018 - val_loss: 0.0095 - val_mean_squared_error: 0.0095\n",
            "Epoch 71/150\n",
            "9592/9592 [==============================] - 1s 153us/sample - loss: 0.0018 - mean_squared_error: 0.0018 - val_loss: 0.0095 - val_mean_squared_error: 0.0095\n",
            "Epoch 72/150\n",
            "9592/9592 [==============================] - 1s 152us/sample - loss: 0.0017 - mean_squared_error: 0.0017 - val_loss: 0.0101 - val_mean_squared_error: 0.0101\n",
            "Epoch 73/150\n",
            "9592/9592 [==============================] - 1s 153us/sample - loss: 0.0017 - mean_squared_error: 0.0017 - val_loss: 0.0098 - val_mean_squared_error: 0.0098\n",
            "Epoch 74/150\n",
            "9592/9592 [==============================] - 1s 152us/sample - loss: 0.0017 - mean_squared_error: 0.0017 - val_loss: 0.0095 - val_mean_squared_error: 0.0095\n",
            "Epoch 75/150\n",
            "9592/9592 [==============================] - 1s 153us/sample - loss: 0.0017 - mean_squared_error: 0.0017 - val_loss: 0.0102 - val_mean_squared_error: 0.0102\n",
            "Epoch 76/150\n",
            "9592/9592 [==============================] - 1s 153us/sample - loss: 0.0017 - mean_squared_error: 0.0017 - val_loss: 0.0098 - val_mean_squared_error: 0.0098\n",
            "Epoch 77/150\n",
            "9592/9592 [==============================] - 1s 152us/sample - loss: 0.0017 - mean_squared_error: 0.0017 - val_loss: 0.0098 - val_mean_squared_error: 0.0098\n",
            "Epoch 78/150\n",
            "9592/9592 [==============================] - 1s 153us/sample - loss: 0.0017 - mean_squared_error: 0.0017 - val_loss: 0.0099 - val_mean_squared_error: 0.0099\n",
            "Epoch 79/150\n",
            "9592/9592 [==============================] - 1s 153us/sample - loss: 0.0016 - mean_squared_error: 0.0016 - val_loss: 0.0097 - val_mean_squared_error: 0.0097\n",
            "Epoch 80/150\n",
            "9592/9592 [==============================] - 1s 154us/sample - loss: 0.0016 - mean_squared_error: 0.0016 - val_loss: 0.0099 - val_mean_squared_error: 0.0099\n",
            "Epoch 81/150\n",
            "9592/9592 [==============================] - 1s 153us/sample - loss: 0.0016 - mean_squared_error: 0.0016 - val_loss: 0.0097 - val_mean_squared_error: 0.0097\n",
            "Epoch 82/150\n",
            "9592/9592 [==============================] - 1s 152us/sample - loss: 0.0016 - mean_squared_error: 0.0016 - val_loss: 0.0095 - val_mean_squared_error: 0.0095\n",
            "Epoch 83/150\n",
            "9592/9592 [==============================] - 1s 153us/sample - loss: 0.0016 - mean_squared_error: 0.0016 - val_loss: 0.0098 - val_mean_squared_error: 0.0098\n",
            "Epoch 84/150\n",
            "9592/9592 [==============================] - 1s 152us/sample - loss: 0.0016 - mean_squared_error: 0.0016 - val_loss: 0.0100 - val_mean_squared_error: 0.0100\n",
            "Epoch 85/150\n",
            "9592/9592 [==============================] - 1s 153us/sample - loss: 0.0016 - mean_squared_error: 0.0016 - val_loss: 0.0100 - val_mean_squared_error: 0.0100\n",
            "Epoch 86/150\n",
            "9592/9592 [==============================] - 1s 152us/sample - loss: 0.0015 - mean_squared_error: 0.0015 - val_loss: 0.0100 - val_mean_squared_error: 0.0100\n",
            "Epoch 87/150\n",
            "9592/9592 [==============================] - 1s 152us/sample - loss: 0.0016 - mean_squared_error: 0.0016 - val_loss: 0.0100 - val_mean_squared_error: 0.0100\n",
            "Epoch 88/150\n",
            "9592/9592 [==============================] - 1s 151us/sample - loss: 0.0015 - mean_squared_error: 0.0015 - val_loss: 0.0099 - val_mean_squared_error: 0.0099\n",
            "Epoch 89/150\n",
            "9592/9592 [==============================] - 1s 152us/sample - loss: 0.0015 - mean_squared_error: 0.0015 - val_loss: 0.0097 - val_mean_squared_error: 0.0097\n",
            "Epoch 90/150\n",
            "9592/9592 [==============================] - 1s 154us/sample - loss: 0.0015 - mean_squared_error: 0.0015 - val_loss: 0.0098 - val_mean_squared_error: 0.0098\n",
            "Epoch 91/150\n",
            "9592/9592 [==============================] - 1s 152us/sample - loss: 0.0015 - mean_squared_error: 0.0015 - val_loss: 0.0099 - val_mean_squared_error: 0.0099\n",
            "Epoch 92/150\n",
            "9592/9592 [==============================] - 1s 153us/sample - loss: 0.0014 - mean_squared_error: 0.0014 - val_loss: 0.0103 - val_mean_squared_error: 0.0103\n",
            "Epoch 93/150\n",
            "9592/9592 [==============================] - 1s 151us/sample - loss: 0.0014 - mean_squared_error: 0.0014 - val_loss: 0.0095 - val_mean_squared_error: 0.0095\n",
            "Epoch 94/150\n",
            "9592/9592 [==============================] - 1s 153us/sample - loss: 0.0014 - mean_squared_error: 0.0014 - val_loss: 0.0101 - val_mean_squared_error: 0.0101\n",
            "Epoch 95/150\n",
            "9592/9592 [==============================] - 1s 152us/sample - loss: 0.0015 - mean_squared_error: 0.0015 - val_loss: 0.0092 - val_mean_squared_error: 0.0092\n",
            "Epoch 96/150\n",
            "9592/9592 [==============================] - 1s 152us/sample - loss: 0.0015 - mean_squared_error: 0.0015 - val_loss: 0.0099 - val_mean_squared_error: 0.0099\n",
            "Epoch 97/150\n",
            "9592/9592 [==============================] - 1s 153us/sample - loss: 0.0014 - mean_squared_error: 0.0014 - val_loss: 0.0101 - val_mean_squared_error: 0.0101\n",
            "Epoch 98/150\n",
            "9592/9592 [==============================] - 1s 153us/sample - loss: 0.0014 - mean_squared_error: 0.0014 - val_loss: 0.0101 - val_mean_squared_error: 0.0101\n",
            "Epoch 99/150\n",
            "9592/9592 [==============================] - 1s 156us/sample - loss: 0.0014 - mean_squared_error: 0.0014 - val_loss: 0.0098 - val_mean_squared_error: 0.0098\n",
            "Epoch 100/150\n",
            "9592/9592 [==============================] - 1s 152us/sample - loss: 0.0014 - mean_squared_error: 0.0014 - val_loss: 0.0100 - val_mean_squared_error: 0.0100\n",
            "Epoch 101/150\n",
            "9592/9592 [==============================] - 1s 153us/sample - loss: 0.0014 - mean_squared_error: 0.0014 - val_loss: 0.0097 - val_mean_squared_error: 0.0097\n",
            "Epoch 102/150\n",
            "9592/9592 [==============================] - 1s 154us/sample - loss: 0.0014 - mean_squared_error: 0.0014 - val_loss: 0.0098 - val_mean_squared_error: 0.0098\n",
            "Epoch 103/150\n",
            "9592/9592 [==============================] - 1s 153us/sample - loss: 0.0014 - mean_squared_error: 0.0014 - val_loss: 0.0102 - val_mean_squared_error: 0.0102\n",
            "Epoch 104/150\n",
            "9592/9592 [==============================] - 1s 153us/sample - loss: 0.0013 - mean_squared_error: 0.0013 - val_loss: 0.0101 - val_mean_squared_error: 0.0101\n",
            "Epoch 105/150\n",
            "9592/9592 [==============================] - 1s 152us/sample - loss: 0.0013 - mean_squared_error: 0.0013 - val_loss: 0.0104 - val_mean_squared_error: 0.0104\n",
            "Epoch 106/150\n",
            "9592/9592 [==============================] - 1s 153us/sample - loss: 0.0013 - mean_squared_error: 0.0013 - val_loss: 0.0105 - val_mean_squared_error: 0.0105\n",
            "Epoch 107/150\n",
            "9592/9592 [==============================] - 1s 154us/sample - loss: 0.0013 - mean_squared_error: 0.0013 - val_loss: 0.0101 - val_mean_squared_error: 0.0101\n",
            "Epoch 108/150\n",
            "9592/9592 [==============================] - 1s 155us/sample - loss: 0.0013 - mean_squared_error: 0.0013 - val_loss: 0.0101 - val_mean_squared_error: 0.0101\n",
            "Epoch 109/150\n",
            "9592/9592 [==============================] - 1s 152us/sample - loss: 0.0014 - mean_squared_error: 0.0014 - val_loss: 0.0103 - val_mean_squared_error: 0.0103\n",
            "Epoch 110/150\n",
            "9592/9592 [==============================] - 2s 157us/sample - loss: 0.0013 - mean_squared_error: 0.0013 - val_loss: 0.0100 - val_mean_squared_error: 0.0100\n",
            "Epoch 111/150\n",
            "9592/9592 [==============================] - 1s 151us/sample - loss: 0.0013 - mean_squared_error: 0.0013 - val_loss: 0.0101 - val_mean_squared_error: 0.0101\n",
            "Epoch 112/150\n",
            "9592/9592 [==============================] - 1s 153us/sample - loss: 0.0013 - mean_squared_error: 0.0013 - val_loss: 0.0101 - val_mean_squared_error: 0.0101\n",
            "Epoch 113/150\n",
            "9592/9592 [==============================] - 1s 152us/sample - loss: 0.0012 - mean_squared_error: 0.0012 - val_loss: 0.0103 - val_mean_squared_error: 0.0103\n",
            "Epoch 114/150\n",
            "9592/9592 [==============================] - 1s 155us/sample - loss: 0.0012 - mean_squared_error: 0.0012 - val_loss: 0.0100 - val_mean_squared_error: 0.0100\n",
            "Epoch 115/150\n",
            "9592/9592 [==============================] - 2s 168us/sample - loss: 0.0013 - mean_squared_error: 0.0013 - val_loss: 0.0102 - val_mean_squared_error: 0.0102\n",
            "Epoch 116/150\n",
            "9592/9592 [==============================] - 2s 174us/sample - loss: 0.0012 - mean_squared_error: 0.0012 - val_loss: 0.0099 - val_mean_squared_error: 0.0099\n",
            "Epoch 117/150\n",
            "9592/9592 [==============================] - 2s 174us/sample - loss: 0.0013 - mean_squared_error: 0.0013 - val_loss: 0.0096 - val_mean_squared_error: 0.0096\n",
            "Epoch 118/150\n",
            "9592/9592 [==============================] - 2s 174us/sample - loss: 0.0012 - mean_squared_error: 0.0012 - val_loss: 0.0100 - val_mean_squared_error: 0.0100\n",
            "Epoch 119/150\n",
            "9592/9592 [==============================] - 2s 180us/sample - loss: 0.0012 - mean_squared_error: 0.0012 - val_loss: 0.0100 - val_mean_squared_error: 0.0100\n",
            "Epoch 120/150\n",
            "9592/9592 [==============================] - 2s 179us/sample - loss: 0.0012 - mean_squared_error: 0.0012 - val_loss: 0.0105 - val_mean_squared_error: 0.0105\n",
            "Epoch 121/150\n",
            "9592/9592 [==============================] - 2s 177us/sample - loss: 0.0012 - mean_squared_error: 0.0012 - val_loss: 0.0099 - val_mean_squared_error: 0.0099\n",
            "Epoch 122/150\n",
            "9592/9592 [==============================] - 1s 153us/sample - loss: 0.0012 - mean_squared_error: 0.0012 - val_loss: 0.0103 - val_mean_squared_error: 0.0103\n",
            "Epoch 123/150\n",
            "9592/9592 [==============================] - 1s 154us/sample - loss: 0.0012 - mean_squared_error: 0.0012 - val_loss: 0.0103 - val_mean_squared_error: 0.0103\n",
            "Epoch 124/150\n",
            "9592/9592 [==============================] - 1s 152us/sample - loss: 0.0012 - mean_squared_error: 0.0012 - val_loss: 0.0099 - val_mean_squared_error: 0.0099\n",
            "Epoch 125/150\n",
            "9592/9592 [==============================] - 1s 153us/sample - loss: 0.0012 - mean_squared_error: 0.0012 - val_loss: 0.0102 - val_mean_squared_error: 0.0102\n",
            "Epoch 126/150\n",
            "9592/9592 [==============================] - 1s 153us/sample - loss: 0.0012 - mean_squared_error: 0.0012 - val_loss: 0.0104 - val_mean_squared_error: 0.0104\n",
            "Epoch 127/150\n",
            "9592/9592 [==============================] - 1s 154us/sample - loss: 0.0011 - mean_squared_error: 0.0011 - val_loss: 0.0098 - val_mean_squared_error: 0.0098\n",
            "Epoch 128/150\n",
            "9592/9592 [==============================] - 1s 153us/sample - loss: 0.0011 - mean_squared_error: 0.0011 - val_loss: 0.0102 - val_mean_squared_error: 0.0102\n",
            "Epoch 129/150\n",
            "9592/9592 [==============================] - 1s 153us/sample - loss: 0.0011 - mean_squared_error: 0.0011 - val_loss: 0.0104 - val_mean_squared_error: 0.0104\n",
            "Epoch 130/150\n",
            "9592/9592 [==============================] - 1s 152us/sample - loss: 0.0011 - mean_squared_error: 0.0011 - val_loss: 0.0101 - val_mean_squared_error: 0.0101\n",
            "Epoch 131/150\n",
            "9592/9592 [==============================] - 1s 153us/sample - loss: 0.0011 - mean_squared_error: 0.0011 - val_loss: 0.0100 - val_mean_squared_error: 0.0100\n",
            "Epoch 132/150\n",
            "9592/9592 [==============================] - 1s 154us/sample - loss: 0.0011 - mean_squared_error: 0.0011 - val_loss: 0.0103 - val_mean_squared_error: 0.0103\n",
            "Epoch 133/150\n",
            "9592/9592 [==============================] - 1s 152us/sample - loss: 0.0011 - mean_squared_error: 0.0011 - val_loss: 0.0105 - val_mean_squared_error: 0.0105\n",
            "Epoch 134/150\n",
            "9592/9592 [==============================] - 2s 157us/sample - loss: 0.0011 - mean_squared_error: 0.0011 - val_loss: 0.0102 - val_mean_squared_error: 0.0102\n",
            "Epoch 135/150\n",
            "9592/9592 [==============================] - 1s 154us/sample - loss: 0.0011 - mean_squared_error: 0.0011 - val_loss: 0.0110 - val_mean_squared_error: 0.0110\n",
            "Epoch 136/150\n",
            "9592/9592 [==============================] - 1s 154us/sample - loss: 0.0011 - mean_squared_error: 0.0011 - val_loss: 0.0102 - val_mean_squared_error: 0.0102\n",
            "Epoch 137/150\n",
            "9592/9592 [==============================] - 1s 152us/sample - loss: 0.0011 - mean_squared_error: 0.0011 - val_loss: 0.0102 - val_mean_squared_error: 0.0102\n",
            "Epoch 138/150\n",
            "9592/9592 [==============================] - 1s 153us/sample - loss: 0.0011 - mean_squared_error: 0.0011 - val_loss: 0.0096 - val_mean_squared_error: 0.0096\n",
            "Epoch 139/150\n",
            "9592/9592 [==============================] - 1s 156us/sample - loss: 0.0011 - mean_squared_error: 0.0011 - val_loss: 0.0105 - val_mean_squared_error: 0.0105\n",
            "Epoch 140/150\n",
            "9592/9592 [==============================] - 1s 153us/sample - loss: 0.0011 - mean_squared_error: 0.0011 - val_loss: 0.0104 - val_mean_squared_error: 0.0104\n",
            "Epoch 141/150\n",
            "9592/9592 [==============================] - 2s 157us/sample - loss: 0.0011 - mean_squared_error: 0.0011 - val_loss: 0.0100 - val_mean_squared_error: 0.0100\n",
            "Epoch 142/150\n",
            "9592/9592 [==============================] - 1s 151us/sample - loss: 0.0011 - mean_squared_error: 0.0011 - val_loss: 0.0105 - val_mean_squared_error: 0.0105\n",
            "Epoch 143/150\n",
            "9592/9592 [==============================] - 1s 154us/sample - loss: 0.0010 - mean_squared_error: 0.0010 - val_loss: 0.0104 - val_mean_squared_error: 0.0104\n",
            "Epoch 144/150\n",
            "9592/9592 [==============================] - 1s 152us/sample - loss: 0.0011 - mean_squared_error: 0.0011 - val_loss: 0.0102 - val_mean_squared_error: 0.0102\n",
            "Epoch 145/150\n",
            "9592/9592 [==============================] - 1s 153us/sample - loss: 0.0010 - mean_squared_error: 0.0010 - val_loss: 0.0101 - val_mean_squared_error: 0.0101\n",
            "Epoch 146/150\n",
            "9592/9592 [==============================] - 1s 151us/sample - loss: 0.0010 - mean_squared_error: 0.0010 - val_loss: 0.0102 - val_mean_squared_error: 0.0102\n",
            "Epoch 147/150\n",
            "9592/9592 [==============================] - 1s 151us/sample - loss: 0.0010 - mean_squared_error: 0.0010 - val_loss: 0.0101 - val_mean_squared_error: 0.0101\n",
            "Epoch 148/150\n",
            "9592/9592 [==============================] - 1s 155us/sample - loss: 0.0010 - mean_squared_error: 0.0010 - val_loss: 0.0102 - val_mean_squared_error: 0.0102\n",
            "Epoch 149/150\n",
            "9592/9592 [==============================] - 1s 150us/sample - loss: 0.0010 - mean_squared_error: 0.0010 - val_loss: 0.0105 - val_mean_squared_error: 0.0105\n",
            "Epoch 150/150\n",
            "9592/9592 [==============================] - 1s 151us/sample - loss: 0.0010 - mean_squared_error: 0.0010 - val_loss: 0.0104 - val_mean_squared_error: 0.0104\n"
          ],
          "name": "stdout"
        }
      ]
    },
    {
      "metadata": {
        "id": "Td0grbVbQQmU",
        "colab_type": "code",
        "outputId": "ca4e84d9-8d03-40bb-c1c4-34a9cfa48f85",
        "colab": {
          "base_uri": "https://localhost:8080/",
          "height": 312
        }
      },
      "cell_type": "code",
      "source": [
        "print(history.history.keys())\n",
        "# \"Loss\"\n",
        "plt.plot(history.history['loss'])\n",
        "plt.plot(history.history['val_loss'])\n",
        "plt.title('model loss')\n",
        "plt.ylabel('loss')\n",
        "plt.xlabel('epoch')\n",
        "plt.xticks([])\n",
        "plt.yticks([])\n",
        "plt.legend(['train', 'validation'], loc='upper right')\n",
        "plt.show()"
      ],
      "execution_count": 30,
      "outputs": [
        {
          "output_type": "stream",
          "text": [
            "dict_keys(['loss', 'mean_squared_error', 'val_loss', 'val_mean_squared_error'])\n"
          ],
          "name": "stdout"
        },
        {
          "output_type": "display_data",
          "data": {
            "image/png": "[encoded data removed]",
            "text/plain": [
              "<Figure size 432x288 with 1 Axes>"
            ]
          },
          "metadata": {
            "tags": []
          }
        }
      ]
    },
    {
      "metadata": {
        "id": "E2cVfFAXv7pG",
        "colab_type": "text"
      },
      "cell_type": "markdown",
      "source": [
        "**seems that we have a overfitting **"
      ]
    },
    {
      "metadata": {
        "id": "wbBuQoTMdPWe",
        "colab_type": "code",
        "colab": {}
      },
      "cell_type": "code",
      "source": [
        "y_pred = model.predict(X_test)\n",
        "y_pred = scaler2.inverse_transform(y_pred.reshape(-1,1))"
      ],
      "execution_count": 0,
      "outputs": []
    },
    {
      "metadata": {
        "id": "l_D4xrKQJKTZ",
        "colab_type": "code",
        "colab": {}
      },
      "cell_type": "code",
      "source": [
        "answer = pd.DataFrame()\n",
        "answer['NU_INSCRICAO'] = test_a.NU_INSCRICAO\n",
        "answer['NU_NOTA_MT'] = y_pred"
      ],
      "execution_count": 0,
      "outputs": []
    },
    {
      "metadata": {
        "id": "TPvakW9NJNFJ",
        "colab_type": "code",
        "colab": {
          "base_uri": "https://localhost:8080/",
          "height": 204
        },
        "outputId": "aad17921-47fe-4c90-f245-b8a225dd0987"
      },
      "cell_type": "code",
      "source": [
        "answer.head()"
      ],
      "execution_count": 33,
      "outputs": [
        {
          "output_type": "execute_result",
          "data": {
            "text/html": [
              "<div>\n",
              "<style scoped>\n",
              "    .dataframe tbody tr th:only-of-type {\n",
              "        vertical-align: middle;\n",
              "    }\n",
              "\n",
              "    .dataframe tbody tr th {\n",
              "        vertical-align: top;\n",
              "    }\n",
              "\n",
              "    .dataframe thead th {\n",
              "        text-align: right;\n",
              "    }\n",
              "</style>\n",
              "<table border=\"1\" class=\"dataframe\">\n",
              "  <thead>\n",
              "    <tr style=\"text-align: right;\">\n",
              "      <th></th>\n",
              "      <th>NU_INSCRICAO</th>\n",
              "      <th>NU_NOTA_MT</th>\n",
              "    </tr>\n",
              "  </thead>\n",
              "  <tbody>\n",
              "    <tr>\n",
              "      <th>0</th>\n",
              "      <td>73ff9fcc02f0a99919906c942c2e1a1042cdcf98</td>\n",
              "      <td>488.990784</td>\n",
              "    </tr>\n",
              "    <tr>\n",
              "      <th>1</th>\n",
              "      <td>71a95f9f1b91a82c65ad94abbdf9f54e6066f968</td>\n",
              "      <td>434.522919</td>\n",
              "    </tr>\n",
              "    <tr>\n",
              "      <th>2</th>\n",
              "      <td>b38a03232f43b11c9d0788abaf060f7366053b6d</td>\n",
              "      <td>450.096588</td>\n",
              "    </tr>\n",
              "    <tr>\n",
              "      <th>3</th>\n",
              "      <td>70b682d9a3636be23f6120fa9d6b164eb3c6002d</td>\n",
              "      <td>504.431274</td>\n",
              "    </tr>\n",
              "    <tr>\n",
              "      <th>4</th>\n",
              "      <td>715494628a50142ce8cb17191cfe6d0f3cae0934</td>\n",
              "      <td>503.874512</td>\n",
              "    </tr>\n",
              "  </tbody>\n",
              "</table>\n",
              "</div>"
            ],
            "text/plain": [
              "                               NU_INSCRICAO  NU_NOTA_MT\n",
              "0  73ff9fcc02f0a99919906c942c2e1a1042cdcf98  488.990784\n",
              "1  71a95f9f1b91a82c65ad94abbdf9f54e6066f968  434.522919\n",
              "2  b38a03232f43b11c9d0788abaf060f7366053b6d  450.096588\n",
              "3  70b682d9a3636be23f6120fa9d6b164eb3c6002d  504.431274\n",
              "4  715494628a50142ce8cb17191cfe6d0f3cae0934  503.874512"
            ]
          },
          "metadata": {
            "tags": []
          },
          "execution_count": 33
        }
      ]
    },
    {
      "metadata": {
        "id": "tSDtbTIaJQdq",
        "colab_type": "code",
        "colab": {}
      },
      "cell_type": "code",
      "source": [
        "answer.to_csv('answer.csv', index=False)"
      ],
      "execution_count": 0,
      "outputs": []
    },
    {
      "metadata": {
        "id": "adbs4WfAJSjq",
        "colab_type": "code",
        "colab": {}
      },
      "cell_type": "code",
      "source": [
        "from google.colab import files\n",
        "#files.download('answer.csv')"
      ],
      "execution_count": 0,
      "outputs": []
    }
  ]
}